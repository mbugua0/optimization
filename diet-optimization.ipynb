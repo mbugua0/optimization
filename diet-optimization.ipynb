{
 "cells": [
  {
   "cell_type": "markdown",
   "metadata": {},
   "source": [
    "The goal is to : "
   ]
  },
  {
   "cell_type": "markdown",
   "metadata": {},
   "source": [
    "1.\tFormulate an optimization model (a linear program) to find the cheapest diet that satisfies the maximum and minimum daily nutrition constraints, and solve it using PuLP.  Turn in your code and the solution. (The optimal solution should be a diet of air-popped popcorn, poached eggs, oranges, raw iceberg lettuce, raw celery, and frozen broccoli. UGH!)\n",
    "2.\tPlease add to your model the following constraints (which might require adding more variables) and solve the new model:\n",
    "    a.\t If a food is selected, then a minimum of 1/10 serving must be chosen. (Hint: now you will need two variables for each food i: whether it is chosen, and how much is part of the diet. You’ll also need to write a constraint to link them.)\n",
    "    b.\t Many people dislike celery and frozen broccoli. So at most one, but not both, can be selected.\n",
    "    c.\t To get day-to-day variety in protein, at least 3 kinds of meat/poultry/fish/eggs must be selected.\n"
   ]
  },
  {
   "cell_type": "markdown",
   "metadata": {},
   "source": [
    "Import the libraries."
   ]
  },
  {
   "cell_type": "code",
   "execution_count": 702,
   "metadata": {},
   "outputs": [],
   "source": [
    "from pulp import *\n",
    "import pandas as pd"
   ]
  },
  {
   "cell_type": "markdown",
   "metadata": {},
   "source": [
    "Load the diet data."
   ]
  },
  {
   "cell_type": "code",
   "execution_count": 703,
   "metadata": {},
   "outputs": [],
   "source": [
    "#df = pd.read_excel('data/diet.xls')\n",
    "\n",
    "df = pd.read_excel(\n",
    "        open(\n",
    "            'data/diet.xls',\n",
    "            'rb'\n",
    "                ),\n",
    "                sheet_name='Sheet1'\n",
    "                )"
   ]
  },
  {
   "cell_type": "code",
   "execution_count": 704,
   "metadata": {},
   "outputs": [
    {
     "data": {
      "text/html": [
       "<div>\n",
       "<style scoped>\n",
       "    .dataframe tbody tr th:only-of-type {\n",
       "        vertical-align: middle;\n",
       "    }\n",
       "\n",
       "    .dataframe tbody tr th {\n",
       "        vertical-align: top;\n",
       "    }\n",
       "\n",
       "    .dataframe thead th {\n",
       "        text-align: right;\n",
       "    }\n",
       "</style>\n",
       "<table border=\"1\" class=\"dataframe\">\n",
       "  <thead>\n",
       "    <tr style=\"text-align: right;\">\n",
       "      <th></th>\n",
       "      <th>Foods</th>\n",
       "      <th>Price/ Serving</th>\n",
       "      <th>Serving Size</th>\n",
       "      <th>Calories</th>\n",
       "      <th>Cholesterol mg</th>\n",
       "      <th>Total_Fat g</th>\n",
       "      <th>Sodium mg</th>\n",
       "      <th>Carbohydrates g</th>\n",
       "      <th>Dietary_Fiber g</th>\n",
       "      <th>Protein g</th>\n",
       "      <th>Vit_A IU</th>\n",
       "      <th>Vit_C IU</th>\n",
       "      <th>Calcium mg</th>\n",
       "      <th>Iron mg</th>\n",
       "    </tr>\n",
       "  </thead>\n",
       "  <tbody>\n",
       "    <tr>\n",
       "      <th>0</th>\n",
       "      <td>Frozen Broccoli</td>\n",
       "      <td>0.16</td>\n",
       "      <td>10 Oz Pkg</td>\n",
       "      <td>73.8</td>\n",
       "      <td>0.0</td>\n",
       "      <td>0.8</td>\n",
       "      <td>68.2</td>\n",
       "      <td>13.6</td>\n",
       "      <td>8.5</td>\n",
       "      <td>8.0</td>\n",
       "      <td>5867.4</td>\n",
       "      <td>160.2</td>\n",
       "      <td>159.0</td>\n",
       "      <td>2.3</td>\n",
       "    </tr>\n",
       "    <tr>\n",
       "      <th>1</th>\n",
       "      <td>Carrots,Raw</td>\n",
       "      <td>0.07</td>\n",
       "      <td>1/2 Cup Shredded</td>\n",
       "      <td>23.7</td>\n",
       "      <td>0.0</td>\n",
       "      <td>0.1</td>\n",
       "      <td>19.2</td>\n",
       "      <td>5.6</td>\n",
       "      <td>1.6</td>\n",
       "      <td>0.6</td>\n",
       "      <td>15471.0</td>\n",
       "      <td>5.1</td>\n",
       "      <td>14.9</td>\n",
       "      <td>0.3</td>\n",
       "    </tr>\n",
       "    <tr>\n",
       "      <th>2</th>\n",
       "      <td>Celery, Raw</td>\n",
       "      <td>0.04</td>\n",
       "      <td>1 Stalk</td>\n",
       "      <td>6.4</td>\n",
       "      <td>0.0</td>\n",
       "      <td>0.1</td>\n",
       "      <td>34.8</td>\n",
       "      <td>1.5</td>\n",
       "      <td>0.7</td>\n",
       "      <td>0.3</td>\n",
       "      <td>53.6</td>\n",
       "      <td>2.8</td>\n",
       "      <td>16.0</td>\n",
       "      <td>0.2</td>\n",
       "    </tr>\n",
       "    <tr>\n",
       "      <th>3</th>\n",
       "      <td>Frozen Corn</td>\n",
       "      <td>0.18</td>\n",
       "      <td>1/2 Cup</td>\n",
       "      <td>72.2</td>\n",
       "      <td>0.0</td>\n",
       "      <td>0.6</td>\n",
       "      <td>2.5</td>\n",
       "      <td>17.1</td>\n",
       "      <td>2.0</td>\n",
       "      <td>2.5</td>\n",
       "      <td>106.6</td>\n",
       "      <td>5.2</td>\n",
       "      <td>3.3</td>\n",
       "      <td>0.3</td>\n",
       "    </tr>\n",
       "    <tr>\n",
       "      <th>4</th>\n",
       "      <td>Lettuce,Iceberg,Raw</td>\n",
       "      <td>0.02</td>\n",
       "      <td>1 Leaf</td>\n",
       "      <td>2.6</td>\n",
       "      <td>0.0</td>\n",
       "      <td>0.0</td>\n",
       "      <td>1.8</td>\n",
       "      <td>0.4</td>\n",
       "      <td>0.3</td>\n",
       "      <td>0.2</td>\n",
       "      <td>66.0</td>\n",
       "      <td>0.8</td>\n",
       "      <td>3.8</td>\n",
       "      <td>0.1</td>\n",
       "    </tr>\n",
       "  </tbody>\n",
       "</table>\n",
       "</div>"
      ],
      "text/plain": [
       "                 Foods  Price/ Serving      Serving Size  Calories  \\\n",
       "0      Frozen Broccoli            0.16         10 Oz Pkg      73.8   \n",
       "1          Carrots,Raw            0.07  1/2 Cup Shredded      23.7   \n",
       "2          Celery, Raw            0.04           1 Stalk       6.4   \n",
       "3          Frozen Corn            0.18           1/2 Cup      72.2   \n",
       "4  Lettuce,Iceberg,Raw            0.02            1 Leaf       2.6   \n",
       "\n",
       "   Cholesterol mg  Total_Fat g  Sodium mg  Carbohydrates g  Dietary_Fiber g  \\\n",
       "0             0.0          0.8       68.2             13.6              8.5   \n",
       "1             0.0          0.1       19.2              5.6              1.6   \n",
       "2             0.0          0.1       34.8              1.5              0.7   \n",
       "3             0.0          0.6        2.5             17.1              2.0   \n",
       "4             0.0          0.0        1.8              0.4              0.3   \n",
       "\n",
       "   Protein g  Vit_A IU  Vit_C IU  Calcium mg  Iron mg  \n",
       "0        8.0    5867.4     160.2       159.0      2.3  \n",
       "1        0.6   15471.0       5.1        14.9      0.3  \n",
       "2        0.3      53.6       2.8        16.0      0.2  \n",
       "3        2.5     106.6       5.2         3.3      0.3  \n",
       "4        0.2      66.0       0.8         3.8      0.1  "
      ]
     },
     "execution_count": 704,
     "metadata": {},
     "output_type": "execute_result"
    }
   ],
   "source": [
    "df.head()"
   ]
  },
  {
   "cell_type": "raw",
   "metadata": {},
   "source": [
    "If you look at the excel file, we have some constraints (min and max) at the bottom. We need to separate this before continuing with our analysis."
   ]
  },
  {
   "cell_type": "code",
   "execution_count": 705,
   "metadata": {},
   "outputs": [],
   "source": [
    "diet_df = df[0:64]\n"
   ]
  },
  {
   "cell_type": "markdown",
   "metadata": {},
   "source": [
    "Explore our diet data set."
   ]
  },
  {
   "cell_type": "code",
   "execution_count": 706,
   "metadata": {},
   "outputs": [
    {
     "data": {
      "text/plain": [
       "Foods               object\n",
       "Price/ Serving     float64\n",
       "Serving Size        object\n",
       "Calories           float64\n",
       "Cholesterol mg     float64\n",
       "Total_Fat g        float64\n",
       "Sodium mg          float64\n",
       "Carbohydrates g    float64\n",
       "Dietary_Fiber g    float64\n",
       "Protein g          float64\n",
       "Vit_A IU           float64\n",
       "Vit_C IU           float64\n",
       "Calcium mg         float64\n",
       "Iron mg            float64\n",
       "dtype: object"
      ]
     },
     "execution_count": 706,
     "metadata": {},
     "output_type": "execute_result"
    }
   ],
   "source": [
    "diet_df.dtypes  # Variables data types.\n"
   ]
  },
  {
   "cell_type": "code",
   "execution_count": 707,
   "metadata": {},
   "outputs": [
    {
     "data": {
      "text/html": [
       "<div>\n",
       "<style scoped>\n",
       "    .dataframe tbody tr th:only-of-type {\n",
       "        vertical-align: middle;\n",
       "    }\n",
       "\n",
       "    .dataframe tbody tr th {\n",
       "        vertical-align: top;\n",
       "    }\n",
       "\n",
       "    .dataframe thead th {\n",
       "        text-align: right;\n",
       "    }\n",
       "</style>\n",
       "<table border=\"1\" class=\"dataframe\">\n",
       "  <thead>\n",
       "    <tr style=\"text-align: right;\">\n",
       "      <th></th>\n",
       "      <th>Price/ Serving</th>\n",
       "      <th>Calories</th>\n",
       "      <th>Cholesterol mg</th>\n",
       "      <th>Total_Fat g</th>\n",
       "      <th>Sodium mg</th>\n",
       "      <th>Carbohydrates g</th>\n",
       "      <th>Dietary_Fiber g</th>\n",
       "      <th>Protein g</th>\n",
       "      <th>Vit_A IU</th>\n",
       "      <th>Vit_C IU</th>\n",
       "      <th>Calcium mg</th>\n",
       "      <th>Iron mg</th>\n",
       "    </tr>\n",
       "  </thead>\n",
       "  <tbody>\n",
       "    <tr>\n",
       "      <th>count</th>\n",
       "      <td>64.000000</td>\n",
       "      <td>64.000000</td>\n",
       "      <td>64.000000</td>\n",
       "      <td>64.000000</td>\n",
       "      <td>64.000000</td>\n",
       "      <td>64.000000</td>\n",
       "      <td>64.000000</td>\n",
       "      <td>64.000000</td>\n",
       "      <td>64.000000</td>\n",
       "      <td>64.000000</td>\n",
       "      <td>64.000000</td>\n",
       "      <td>64.000000</td>\n",
       "    </tr>\n",
       "    <tr>\n",
       "      <th>mean</th>\n",
       "      <td>0.327188</td>\n",
       "      <td>134.384375</td>\n",
       "      <td>18.071875</td>\n",
       "      <td>5.185937</td>\n",
       "      <td>332.126563</td>\n",
       "      <td>16.437500</td>\n",
       "      <td>1.503125</td>\n",
       "      <td>6.071875</td>\n",
       "      <td>777.132812</td>\n",
       "      <td>11.498438</td>\n",
       "      <td>50.296875</td>\n",
       "      <td>1.587500</td>\n",
       "    </tr>\n",
       "    <tr>\n",
       "      <th>std</th>\n",
       "      <td>0.254536</td>\n",
       "      <td>120.790475</td>\n",
       "      <td>42.114117</td>\n",
       "      <td>9.684530</td>\n",
       "      <td>491.718977</td>\n",
       "      <td>18.257971</td>\n",
       "      <td>2.216817</td>\n",
       "      <td>6.706771</td>\n",
       "      <td>2173.534758</td>\n",
       "      <td>28.957448</td>\n",
       "      <td>75.257796</td>\n",
       "      <td>2.477998</td>\n",
       "    </tr>\n",
       "    <tr>\n",
       "      <th>min</th>\n",
       "      <td>0.020000</td>\n",
       "      <td>2.600000</td>\n",
       "      <td>0.000000</td>\n",
       "      <td>0.000000</td>\n",
       "      <td>0.000000</td>\n",
       "      <td>0.000000</td>\n",
       "      <td>0.000000</td>\n",
       "      <td>0.000000</td>\n",
       "      <td>0.000000</td>\n",
       "      <td>0.000000</td>\n",
       "      <td>0.900000</td>\n",
       "      <td>0.000000</td>\n",
       "    </tr>\n",
       "    <tr>\n",
       "      <th>25%</th>\n",
       "      <td>0.145000</td>\n",
       "      <td>73.400000</td>\n",
       "      <td>0.000000</td>\n",
       "      <td>0.500000</td>\n",
       "      <td>16.175000</td>\n",
       "      <td>4.625000</td>\n",
       "      <td>0.000000</td>\n",
       "      <td>1.975000</td>\n",
       "      <td>11.750000</td>\n",
       "      <td>0.000000</td>\n",
       "      <td>6.775000</td>\n",
       "      <td>0.300000</td>\n",
       "    </tr>\n",
       "    <tr>\n",
       "      <th>50%</th>\n",
       "      <td>0.270000</td>\n",
       "      <td>109.400000</td>\n",
       "      <td>0.000000</td>\n",
       "      <td>2.650000</td>\n",
       "      <td>137.250000</td>\n",
       "      <td>15.050000</td>\n",
       "      <td>0.700000</td>\n",
       "      <td>4.050000</td>\n",
       "      <td>95.450000</td>\n",
       "      <td>1.550000</td>\n",
       "      <td>20.400000</td>\n",
       "      <td>0.700000</td>\n",
       "    </tr>\n",
       "    <tr>\n",
       "      <th>75%</th>\n",
       "      <td>0.460000</td>\n",
       "      <td>159.500000</td>\n",
       "      <td>17.625000</td>\n",
       "      <td>6.700000</td>\n",
       "      <td>335.100000</td>\n",
       "      <td>22.150000</td>\n",
       "      <td>1.850000</td>\n",
       "      <td>8.025000</td>\n",
       "      <td>499.900000</td>\n",
       "      <td>7.525000</td>\n",
       "      <td>51.650000</td>\n",
       "      <td>2.025000</td>\n",
       "    </tr>\n",
       "    <tr>\n",
       "      <th>max</th>\n",
       "      <td>0.990000</td>\n",
       "      <td>710.800000</td>\n",
       "      <td>211.500000</td>\n",
       "      <td>72.200000</td>\n",
       "      <td>1915.100000</td>\n",
       "      <td>128.200000</td>\n",
       "      <td>11.600000</td>\n",
       "      <td>42.200000</td>\n",
       "      <td>15471.000000</td>\n",
       "      <td>160.200000</td>\n",
       "      <td>302.300000</td>\n",
       "      <td>16.800000</td>\n",
       "    </tr>\n",
       "  </tbody>\n",
       "</table>\n",
       "</div>"
      ],
      "text/plain": [
       "       Price/ Serving    Calories  Cholesterol mg  Total_Fat g    Sodium mg  \\\n",
       "count       64.000000   64.000000       64.000000    64.000000    64.000000   \n",
       "mean         0.327188  134.384375       18.071875     5.185937   332.126563   \n",
       "std          0.254536  120.790475       42.114117     9.684530   491.718977   \n",
       "min          0.020000    2.600000        0.000000     0.000000     0.000000   \n",
       "25%          0.145000   73.400000        0.000000     0.500000    16.175000   \n",
       "50%          0.270000  109.400000        0.000000     2.650000   137.250000   \n",
       "75%          0.460000  159.500000       17.625000     6.700000   335.100000   \n",
       "max          0.990000  710.800000      211.500000    72.200000  1915.100000   \n",
       "\n",
       "       Carbohydrates g  Dietary_Fiber g  Protein g      Vit_A IU    Vit_C IU  \\\n",
       "count        64.000000        64.000000  64.000000     64.000000   64.000000   \n",
       "mean         16.437500         1.503125   6.071875    777.132812   11.498438   \n",
       "std          18.257971         2.216817   6.706771   2173.534758   28.957448   \n",
       "min           0.000000         0.000000   0.000000      0.000000    0.000000   \n",
       "25%           4.625000         0.000000   1.975000     11.750000    0.000000   \n",
       "50%          15.050000         0.700000   4.050000     95.450000    1.550000   \n",
       "75%          22.150000         1.850000   8.025000    499.900000    7.525000   \n",
       "max         128.200000        11.600000  42.200000  15471.000000  160.200000   \n",
       "\n",
       "       Calcium mg    Iron mg  \n",
       "count   64.000000  64.000000  \n",
       "mean    50.296875   1.587500  \n",
       "std     75.257796   2.477998  \n",
       "min      0.900000   0.000000  \n",
       "25%      6.775000   0.300000  \n",
       "50%     20.400000   0.700000  \n",
       "75%     51.650000   2.025000  \n",
       "max    302.300000  16.800000  "
      ]
     },
     "execution_count": 707,
     "metadata": {},
     "output_type": "execute_result"
    }
   ],
   "source": [
    "diet_df.describe() # Return statistical analysis.\n"
   ]
  },
  {
   "cell_type": "markdown",
   "metadata": {},
   "source": [
    "Let's check for missing data. We don't have any missing data."
   ]
  },
  {
   "cell_type": "code",
   "execution_count": 708,
   "metadata": {},
   "outputs": [
    {
     "data": {
      "text/plain": [
       "False"
      ]
     },
     "execution_count": 708,
     "metadata": {},
     "output_type": "execute_result"
    }
   ],
   "source": [
    "diet_df.isnull().values.any()\n"
   ]
  },
  {
   "cell_type": "markdown",
   "metadata": {},
   "source": [
    "Create lists for min and max."
   ]
  },
  {
   "cell_type": "code",
   "execution_count": 709,
   "metadata": {},
   "outputs": [],
   "source": [
    "a_min = [1500, 30, 20, 800, 130, 125, 60, 1000, 400, 700, 10]"
   ]
  },
  {
   "cell_type": "code",
   "execution_count": 710,
   "metadata": {},
   "outputs": [],
   "source": [
    "a_max = [2500, 240, 70, 2000, 450, 250, 100, 10000, 5000, 1500, 40]"
   ]
  },
  {
   "cell_type": "markdown",
   "metadata": {},
   "source": [
    "Convert our diet data frame into list of list"
   ]
  },
  {
   "cell_type": "code",
   "execution_count": 711,
   "metadata": {},
   "outputs": [],
   "source": [
    "data = diet_df.values.tolist()\n"
   ]
  },
  {
   "cell_type": "markdown",
   "metadata": {},
   "source": [
    "Make a list of foods"
   ]
  },
  {
   "cell_type": "code",
   "execution_count": 712,
   "metadata": {},
   "outputs": [],
   "source": [
    "foods = [f[0] for f in data]\n"
   ]
  },
  {
   "cell_type": "markdown",
   "metadata": {},
   "source": [
    "Create dictionaries for the various food properties/components. This will help if we want to optimize for specific food components."
   ]
  },
  {
   "cell_type": "code",
   "execution_count": 713,
   "metadata": {},
   "outputs": [],
   "source": [
    "calories = dict([(c[0], float(c[3])) for c in data])"
   ]
  },
  {
   "cell_type": "code",
   "execution_count": 714,
   "metadata": {},
   "outputs": [],
   "source": [
    "cholesterol = dict([(c[0], float(c[4])) for c in data])"
   ]
  },
  {
   "cell_type": "code",
   "execution_count": 715,
   "metadata": {},
   "outputs": [],
   "source": [
    "total_Fat = dict([(t[0], float(t[5])) for t in data])"
   ]
  },
  {
   "cell_type": "code",
   "execution_count": 716,
   "metadata": {},
   "outputs": [],
   "source": [
    "sodium = dict([(s[0], float(s[6])) for s in data])"
   ]
  },
  {
   "cell_type": "code",
   "execution_count": 717,
   "metadata": {},
   "outputs": [],
   "source": [
    "Carbohydrates = dict([(c[0], float(c[7])) for c in data])"
   ]
  },
  {
   "cell_type": "code",
   "execution_count": 718,
   "metadata": {},
   "outputs": [],
   "source": [
    "dietary_Fiber = dict([(d[0], float(d[8])) for d in data])"
   ]
  },
  {
   "cell_type": "code",
   "execution_count": 719,
   "metadata": {},
   "outputs": [],
   "source": [
    "protein = dict([(p[0], float(p[9])) for p in data])"
   ]
  },
  {
   "cell_type": "code",
   "execution_count": 720,
   "metadata": {},
   "outputs": [],
   "source": [
    "vit_A = dict([(v[0], float(v[10])) for v in data])"
   ]
  },
  {
   "cell_type": "code",
   "execution_count": 721,
   "metadata": {},
   "outputs": [],
   "source": [
    "vit_C = dict([(v[0], float(v[11])) for v in data])"
   ]
  },
  {
   "cell_type": "code",
   "execution_count": 722,
   "metadata": {},
   "outputs": [],
   "source": [
    "calcium = dict([(c[0], float(c[12])) for c in data])"
   ]
  },
  {
   "cell_type": "code",
   "execution_count": 723,
   "metadata": {},
   "outputs": [],
   "source": [
    "iron = dict([(i[0], float(i[13])) for i in data])\n"
   ]
  },
  {
   "cell_type": "markdown",
   "metadata": {},
   "source": [
    "Define the cost dictionary."
   ]
  },
  {
   "cell_type": "code",
   "execution_count": 724,
   "metadata": {},
   "outputs": [],
   "source": [
    "cost = dict([(c[0], float(c[1])) for c in data])\n"
   ]
  },
  {
   "cell_type": "markdown",
   "metadata": {},
   "source": [
    "Let's work on the contraints per variable by iterating through all of them and appending the contraint."
   ]
  },
  {
   "cell_type": "code",
   "execution_count": 740,
   "metadata": {},
   "outputs": [],
   "source": [
    "b = []\n",
    "for j in range(0,11):\n",
    "    b.append(dict([(x[0], float(x[j+3])) for x in data]))\n",
    " "
   ]
  },
  {
   "cell_type": "markdown",
   "metadata": {},
   "source": [
    "Let's create an minimization optimization problem."
   ]
  },
  {
   "cell_type": "code",
   "execution_count": 726,
   "metadata": {},
   "outputs": [],
   "source": [
    "optimization_problem = LpProblem('DietProblem', LpMinimize)\n"
   ]
  },
  {
   "cell_type": "markdown",
   "metadata": {},
   "source": [
    "Let's define binary variables. Whether the food is chosen or not representing 0 for not chosen and 1 for chosen."
   ]
  },
  {
   "cell_type": "code",
   "execution_count": 727,
   "metadata": {},
   "outputs": [],
   "source": [
    "chosen_variables = LpVariable.dicts(\"Chosen\",foods,0,1,\"Binary\")\n",
    "#chosen_variables = LpVariable.dicts(\"Chosen\",foods,cat=\"Binary\")\n"
   ]
  },
  {
   "cell_type": "markdown",
   "metadata": {},
   "source": [
    "Let's define continuous variables."
   ]
  },
  {
   "cell_type": "code",
   "execution_count": 728,
   "metadata": {},
   "outputs": [],
   "source": [
    "food_variables = LpVariable.dicts(\"Foods\", foods,0)\n"
   ]
  },
  {
   "cell_type": "markdown",
   "metadata": {},
   "source": [
    "Let's define the objective function. We are going to use lpSum() function."
   ]
  },
  {
   "cell_type": "code",
   "execution_count": 729,
   "metadata": {},
   "outputs": [],
   "source": [
    "optimization_problem += lpSum([cost[f] * food_variables[f] for f in foods]),'total cost'\n"
   ]
  },
  {
   "cell_type": "markdown",
   "metadata": {},
   "source": [
    "To solve : \"If a food is selected, then a minimum of 1/10 serving must be chosen\". We need to add these contraints. \n",
    "We set:- \n",
    "Upper bound(we multiplying by 1000000 - large number) \n",
    "and \n",
    "Lower bound(we multiplying by 0.1 - 1/10)."
   ]
  },
  {
   "cell_type": "code",
   "execution_count": 730,
   "metadata": {},
   "outputs": [],
   "source": [
    "for f in foods:\n",
    "    optimization_problem += food_variables[f] <= 1000000 * chosen_variables[f]\n",
    "    optimization_problem += food_variables[f] >= 0.1 * chosen_variables[f]\n",
    "    "
   ]
  },
  {
   "cell_type": "markdown",
   "metadata": {},
   "source": [
    "Let's add the minimum daily intake contraints on all foods using our min list."
   ]
  },
  {
   "cell_type": "code",
   "execution_count": 731,
   "metadata": {},
   "outputs": [],
   "source": [
    "# Using min list.\n",
    "for i in range(0,11):\n",
    "    b_x_dot = lpSum([b[i][j] * food_variables[j] for j in foods])\n",
    "    contraint_1 = a_min[i] <= + b_x_dot\n",
    "    optimization_problem += contraint_1\n",
    "    "
   ]
  },
  {
   "cell_type": "markdown",
   "metadata": {},
   "source": [
    "Let's add the maximum daily intake contraints on all foods using our max list."
   ]
  },
  {
   "cell_type": "code",
   "execution_count": 732,
   "metadata": {},
   "outputs": [],
   "source": [
    "# Using max list.\n",
    "for i in range(0,11):\n",
    "    b_x_dot = lpSum([b[i][j] * food_variables[j] for j in foods])\n",
    "    contraint_2 = a_max[i] >= + b_x_dot\n",
    "    optimization_problem += contraint_2\n",
    "    "
   ]
  },
  {
   "cell_type": "markdown",
   "metadata": {},
   "source": [
    "To solve : \"Many people dislike celery and frozen broccoli. So at most one, but not both, can be selected\". We need to add this contraint. "
   ]
  },
  {
   "cell_type": "code",
   "execution_count": 733,
   "metadata": {},
   "outputs": [],
   "source": [
    "optimization_problem += chosen_variables['Frozen Broccoli'] + \\\n",
    "chosen_variables['Celery, Raw'] <= 1, 'At most one Broccoli / Celery'\n"
   ]
  },
  {
   "cell_type": "markdown",
   "metadata": {},
   "source": [
    "To solve : \"To get day-to-day variety in protein, at least 3 kinds of meat/poultry/fish/eggs must be selected\". We need to add this contraint."
   ]
  },
  {
   "cell_type": "code",
   "execution_count": 734,
   "metadata": {},
   "outputs": [],
   "source": [
    "optimization_problem += chosen_variables['Roasted Chicken'] + chosen_variables['Poached Eggs'] + \\\n",
    "  chosen_variables['Scrambled Eggs'] + chosen_variables['Frankfurter, Beef'] + \\\n",
    "  chosen_variables['Kielbasa,Prk'] + chosen_variables['Hamburger W/Toppings'] + \\\n",
    "  chosen_variables['Hotdog, Plain'] + chosen_variables['Pork'] + \\\n",
    "  chosen_variables['Bologna,Turkey'] + chosen_variables['Ham,Sliced,Extralean'] + \\\n",
    "  chosen_variables['White Tuna in Water'] \\\n",
    "  >= 3, 'At least three proteins'\n"
   ]
  },
  {
   "cell_type": "markdown",
   "metadata": {},
   "source": [
    "Let's solve our diet optimization problem."
   ]
  },
  {
   "cell_type": "code",
   "execution_count": 735,
   "metadata": {},
   "outputs": [
    {
     "data": {
      "text/plain": [
       "1"
      ]
     },
     "execution_count": 735,
     "metadata": {},
     "output_type": "execute_result"
    }
   ],
   "source": [
    "optimization_problem.solve()\n"
   ]
  },
  {
   "cell_type": "code",
   "execution_count": 736,
   "metadata": {},
   "outputs": [
    {
     "name": "stdout",
     "output_type": "stream",
     "text": [
      "The Optimal Solution:\n",
      "42.399358 units of Foods_Celery,_Raw\n",
      "0.1 units of Foods_Kielbasa,Prk\n",
      "82.802586 units of Foods_Lettuce,Iceberg,Raw\n",
      "3.0771841 units of Foods_Oranges\n",
      "1.9429716 units of Foods_Peanut_Butter\n",
      "0.1 units of Foods_Poached_Eggs\n",
      "13.223294 units of Foods_Popcorn,Air_Popped\n",
      "0.1 units of Foods_Scrambled_Eggs\n"
     ]
    }
   ],
   "source": [
    "VariablesDict = {} # A dict to store the optimal diet requirement.\n",
    "print('The Optimal Solution:')\n",
    "for var in optimization_problem.variables():\n",
    "    if var.varValue > 0:\n",
    "        if str(var).find('Chosen'):\n",
    "            VariablesDict[var] = var.varValue\n",
    "            print(str(var.varValue) + \" units of \" + str(var))\n",
    "            "
   ]
  },
  {
   "cell_type": "code",
   "execution_count": 737,
   "metadata": {},
   "outputs": [
    {
     "name": "stdout",
     "output_type": "stream",
     "text": [
      "{Foods_Celery,_Raw: 42.399358, Foods_Kielbasa,Prk: 0.1, Foods_Lettuce,Iceberg,Raw: 82.802586, Foods_Oranges: 3.0771841, Foods_Peanut_Butter: 1.9429716, Foods_Poached_Eggs: 0.1, Foods_Popcorn,Air_Popped: 13.223294, Foods_Scrambled_Eggs: 0.1}\n"
     ]
    }
   ],
   "source": [
    "print(VariablesDict)\n"
   ]
  },
  {
   "cell_type": "markdown",
   "metadata": {},
   "source": [
    "The total cost of food for the optimal diet requirement.    "
   ]
  },
  {
   "cell_type": "code",
   "execution_count": 738,
   "metadata": {},
   "outputs": [
    {
     "name": "stdout",
     "output_type": "stream",
     "text": [
      "Total cost of food = $4.51\n"
     ]
    }
   ],
   "source": [
    "print(\"Total cost of food = $%.2f\" % value(optimization_problem.objective))\n"
   ]
  },
  {
   "cell_type": "code",
   "execution_count": null,
   "metadata": {},
   "outputs": [],
   "source": []
  }
 ],
 "metadata": {
  "kernelspec": {
   "display_name": "Python 3",
   "language": "python",
   "name": "python3"
  },
  "language_info": {
   "codemirror_mode": {
    "name": "ipython",
    "version": 3
   },
   "file_extension": ".py",
   "mimetype": "text/x-python",
   "name": "python",
   "nbconvert_exporter": "python",
   "pygments_lexer": "ipython3",
   "version": "3.8.5"
  }
 },
 "nbformat": 4,
 "nbformat_minor": 4
}
